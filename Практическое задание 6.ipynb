{
 "cells": [
  {
   "cell_type": "markdown",
   "metadata": {},
   "source": [
    "### Задача 1"
   ]
  },
  {
   "cell_type": "code",
   "execution_count": 6,
   "metadata": {},
   "outputs": [
    {
     "name": "stdout",
     "output_type": "stream",
     "text": [
      "2\n",
      "1.25\n"
     ]
    }
   ],
   "source": [
    "n=int(input())\n",
    "s= 0\n",
    "for i in range(1,n+1):\n",
    "    s = s + 1/(i**2)\n",
    "print(s)"
   ]
  },
  {
   "cell_type": "markdown",
   "metadata": {},
   "source": [
    "### Задача 2"
   ]
  },
  {
   "cell_type": "code",
   "execution_count": 27,
   "metadata": {},
   "outputs": [
    {
     "name": "stdout",
     "output_type": "stream",
     "text": [
      "10.34\n",
      "0.34\n"
     ]
    }
   ],
   "source": [
    "x = float(input())\n",
    "print(round((x % 1),2))"
   ]
  },
  {
   "cell_type": "markdown",
   "metadata": {},
   "source": [
    "### Задача 3"
   ]
  },
  {
   "cell_type": "code",
   "execution_count": 22,
   "metadata": {},
   "outputs": [
    {
     "name": "stdout",
     "output_type": "stream",
     "text": [
      "10.35\n",
      "10 35\n"
     ]
    }
   ],
   "source": [
    "from decimal import Decimal\n",
    "x = Decimal(input())\n",
    "a = int(x)\n",
    "b = int(100 * (x - a))\n",
    "print(a, b) "
   ]
  },
  {
   "cell_type": "markdown",
   "metadata": {},
   "source": [
    "### Задача 4"
   ]
  },
  {
   "cell_type": "code",
   "execution_count": 38,
   "metadata": {},
   "outputs": [
    {
     "name": "stdout",
     "output_type": "stream",
     "text": [
      "2.3\n",
      "2\n"
     ]
    }
   ],
   "source": [
    "import math\n",
    "a = float(input())\n",
    "if math.ceil(a) - a <= 0.5:\n",
    "    print(math.ceil(a))\n",
    "else:\n",
    "    print(math.ceil(a) - 1)"
   ]
  },
  {
   "cell_type": "markdown",
   "metadata": {},
   "source": [
    "### Задача 5"
   ]
  },
  {
   "cell_type": "code",
   "execution_count": 43,
   "metadata": {},
   "outputs": [
    {
     "name": "stdout",
     "output_type": "stream",
     "text": [
      "13\n",
      "179\n",
      "0\n",
      "202 27\n"
     ]
    }
   ],
   "source": [
    "p = int(input()) \n",
    "x = int(input()) \n",
    "y = int(input())\n",
    "t = x*100+y             \n",
    "pr = t+(t*p/100)  \n",
    "a = int(pr // 100)        \n",
    "b = int(pr % 100)         \n",
    "print(a, b)"
   ]
  },
  {
   "cell_type": "markdown",
   "metadata": {},
   "source": [
    "### Задача 6"
   ]
  },
  {
   "cell_type": "code",
   "execution_count": 44,
   "metadata": {},
   "outputs": [
    {
     "name": "stdout",
     "output_type": "stream",
     "text": [
      "12\n",
      "179\n",
      "0\n",
      "5\n",
      "315.43\n"
     ]
    }
   ],
   "source": [
    "p,x,y,k = int(input()),int(input()),int(input()),int(input())\n",
    "x=x+y/100\n",
    "r=x\n",
    "for i in range(k):\n",
    "    r+=r*(p/100)\n",
    "    r=int(r*100)/100\n",
    "print(r)"
   ]
  },
  {
   "cell_type": "markdown",
   "metadata": {},
   "source": [
    "### Задача 7"
   ]
  },
  {
   "cell_type": "code",
   "execution_count": 71,
   "metadata": {},
   "outputs": [
    {
     "name": "stdout",
     "output_type": "stream",
     "text": [
      "2\n",
      "0.5\n",
      "1\n",
      "1\n",
      "1\n",
      "1.75\n"
     ]
    }
   ],
   "source": [
    "from decimal import Decimal\n",
    "p = int(input()) \n",
    "x = float(input()) \n",
    "y = float(input())\n",
    "c=y\n",
    "for i in range (p):\n",
    "    g=float(input())\n",
    "    c=c*x+g\n",
    "print(Decimal(c))"
   ]
  },
  {
   "cell_type": "markdown",
   "metadata": {},
   "source": [
    "### Задача 8"
   ]
  },
  {
   "cell_type": "code",
   "execution_count": 77,
   "metadata": {},
   "outputs": [
    {
     "name": "stdout",
     "output_type": "stream",
     "text": [
      "1\n",
      "2\n",
      "3\n",
      "0\n",
      "1.0\n"
     ]
    }
   ],
   "source": [
    "x = int(input())\n",
    "n = p = c = 0\n",
    "while x != 0:\n",
    "    n = n + 1\n",
    "    c = c + x\n",
    "    p = p + x ** 2\n",
    "    x = int(input())\n",
    "print(((p - c ** 2 / n) / (n - 1))**0.5)"
   ]
  },
  {
   "cell_type": "markdown",
   "metadata": {},
   "source": [
    "### Задача 9"
   ]
  },
  {
   "cell_type": "code",
   "execution_count": 80,
   "metadata": {},
   "outputs": [
    {
     "name": "stdout",
     "output_type": "stream",
     "text": [
      "1\n",
      "-7.5\n",
      "3\n",
      "0.4239663260874824 7.076033673912518\n"
     ]
    }
   ],
   "source": [
    "import math\n",
    "a = float(input())\n",
    "b = float(input())\n",
    "c = float(input())\n",
    "D = b ** 2 - 4 * a * c\n",
    "x1 = (-b + math.sqrt(D)) / (2 * a)\n",
    "x2 = (-b - math.sqrt(D)) / (2 * a)\n",
    "print(x2, x1)"
   ]
  },
  {
   "cell_type": "markdown",
   "metadata": {},
   "source": [
    "### Задача 10"
   ]
  },
  {
   "cell_type": "code",
   "execution_count": 4,
   "metadata": {},
   "outputs": [
    {
     "name": "stdout",
     "output_type": "stream",
     "text": [
      "1\n",
      "2\n",
      "1\n",
      "1 -1.0\n"
     ]
    }
   ],
   "source": [
    "a = float(input())   \n",
    "b = float(input()) \n",
    "c = float(input()) \n",
    "D = b**2 - 4*a*c\n",
    "if D < 0:  \n",
    "    print (0)\n",
    "elif D == 0:     \n",
    "    x = (-b + D** .5) / (2*a)\n",
    "    print (1,x)\n",
    "else:    \n",
    "    x1 =  (-b + D** .5) / (2*a)\n",
    "    x2 =  (-b - D** .5) / (2*a)\n",
    "    print (2,x1)\n",
    "    print (2,x2)"
   ]
  },
  {
   "cell_type": "markdown",
   "metadata": {},
   "source": [
    "### Задача 11"
   ]
  },
  {
   "cell_type": "code",
   "execution_count": 10,
   "metadata": {},
   "outputs": [
    {
     "name": "stdout",
     "output_type": "stream",
     "text": [
      "a=1\n",
      "b=2\n",
      "c=3\n",
      "d=4\n",
      "e=-1\n",
      "f=-1\n",
      "1.0 -1.0\n"
     ]
    }
   ],
   "source": [
    "a = float(input())\n",
    "b = float(input())\n",
    "c = float(input())\n",
    "d = float(input())\n",
    "e = float(input())\n",
    "f = float(input())\n",
    "y = ((f * a - e * c) / (d * a - b * c))\n",
    "x = ((e - b * y) / a)\n",
    "print(x, y)"
   ]
  },
  {
   "cell_type": "markdown",
   "metadata": {},
   "source": [
    "### Задача 12"
   ]
  },
  {
   "cell_type": "code",
   "execution_count": 16,
   "metadata": {},
   "outputs": [
    {
     "name": "stdout",
     "output_type": "stream",
     "text": [
      "1\n",
      "0\n",
      "0\n",
      "1\n",
      "3\n",
      "3\n",
      "2 3.0 3.0\n"
     ]
    }
   ],
   "source": [
    "a = float(input())\n",
    "b = float(input())\n",
    "c = float(input())\n",
    "d = float(input())\n",
    "e = float(input())\n",
    "f = float(input())\n",
    "if a == 0 and b == 0 and c == 0 and d == 0 and e == 0 and f == 0:\n",
    "    print(5)\n",
    "elif a * d == b * c and a * f != c * e:\n",
    "    print(0)\n",
    "elif a == 0 and b == 0 and e != 0:\n",
    "    print(0)\n",
    "elif c == 0 and d == 0 and f != 0:\n",
    "    print(0)\n",
    "elif a == 0 and c == 0 and b * f != d * e:\n",
    "    print(0)\n",
    "elif b == 0 and d == 0 and a * f != c * e:\n",
    "    print(0)\n",
    "elif a * d == b * c and a * f == c * e:\n",
    "    if b == 0 and d == 0:\n",
    "        if a != 0 and c != 0:\n",
    "            print(3, e / a)\n",
    "        elif a == 0:\n",
    "            if e == 0:\n",
    "                print(3, f / c)\n",
    "        elif c == 0:\n",
    "            if f == 0:\n",
    "                print(3, e / a)\n",
    "        elif a == 0 and c == 0:\n",
    "            if b != 0:\n",
    "                print(4, e / b)\n",
    "        elif d != 0:\n",
    "            print(4, f / d)\n",
    "        elif b != 0:\n",
    "            print(1, -a / b, e / b)\n",
    "        elif d != 0:\n",
    "            print(1, -c / d, f / d)\n",
    "else:\n",
    "    x = (e * d - b * f) / (a * d - b * c)\n",
    "    y = (a * f - e * c) / (a * d - b * c)\n",
    "    print(2, x, y)"
   ]
  },
  {
   "cell_type": "markdown",
   "metadata": {},
   "source": [
    "### Задача 13"
   ]
  },
  {
   "cell_type": "code",
   "execution_count": 17,
   "metadata": {},
   "outputs": [
    {
     "name": "stdout",
     "output_type": "stream",
     "text": [
      "Abrakadabra\n",
      "r\n",
      "r\n",
      "Abrak\n",
      "Abrakadab\n",
      "Arkdba\n",
      "baaar\n",
      "arbadakarbA\n",
      "abdkrA\n",
      "11\n"
     ]
    }
   ],
   "source": [
    "s = input()\n",
    "print(s[2])\n",
    "print(s[-2])\n",
    "print(s[0:5])\n",
    "print(s[:-2])\n",
    "print(s[::2])\n",
    "print(s[1::2])\n",
    "print(s[::-1])\n",
    "print(s[::-2])\n",
    "print(len(s))"
   ]
  },
  {
   "cell_type": "markdown",
   "metadata": {},
   "source": [
    "### Задача 14"
   ]
  },
  {
   "cell_type": "code",
   "execution_count": 20,
   "metadata": {},
   "outputs": [
    {
     "name": "stdout",
     "output_type": "stream",
     "text": [
      "hello\n",
      "\n"
     ]
    }
   ],
   "source": [
    "s = input()\n",
    "a = s.find('f')\n",
    "b = s.rfind('f')\n",
    "if a == -1:\n",
    "    print()\n",
    "elif a == b:\n",
    "    print(a)\n",
    "else:\n",
    "    print(a, b)"
   ]
  },
  {
   "cell_type": "markdown",
   "metadata": {},
   "source": [
    "### Задача 15"
   ]
  },
  {
   "cell_type": "code",
   "execution_count": 23,
   "metadata": {},
   "outputs": [
    {
     "name": "stdout",
     "output_type": "stream",
     "text": [
      "In the hole in the ground there lived a hobbit\n",
      "In tobbit\n"
     ]
    }
   ],
   "source": [
    "s = input()\n",
    "a = s.find('h') \n",
    "b = s.rfind('h')   \n",
    "print(s[:a] + s[b + 1:])"
   ]
  },
  {
   "cell_type": "markdown",
   "metadata": {},
   "source": [
    "### Задача 16"
   ]
  },
  {
   "cell_type": "code",
   "execution_count": 29,
   "metadata": {},
   "outputs": [
    {
     "name": "stdout",
     "output_type": "stream",
     "text": [
      "In the hole in the ground there lived a hobbit\n",
      "In the hole in the ground there lived a e hole in the ground there lived a hobbit\n"
     ]
    }
   ],
   "source": [
    "s = input()\n",
    "a = s[:s.find('h')+1]\n",
    "b = s[s.find('h')+1:s.rfind('h')]*2\n",
    "c = s[s.rfind('h'):]\n",
    "print(a + b + c)"
   ]
  },
  {
   "cell_type": "markdown",
   "metadata": {},
   "source": [
    "### Задача 17"
   ]
  },
  {
   "cell_type": "code",
   "execution_count": 38,
   "metadata": {},
   "outputs": [
    {
     "name": "stdout",
     "output_type": "stream",
     "text": [
      "qwerty\n",
      "-2\n"
     ]
    }
   ],
   "source": [
    "s = input()\n",
    "if s.count('f') == 1:\n",
    "    print(-1)\n",
    "elif s.count('f') == 0:\n",
    "    print(-2)\n",
    "else:\n",
    "    print((s.find('f'), s.find('f') + 1))"
   ]
  },
  {
   "cell_type": "markdown",
   "metadata": {},
   "source": [
    "### Задача 18"
   ]
  },
  {
   "cell_type": "code",
   "execution_count": 42,
   "metadata": {},
   "outputs": [
    {
     "name": "stdout",
     "output_type": "stream",
     "text": [
      "Q WERRTYUIOP\n",
      "WERRTYUIOP Q\n"
     ]
    }
   ],
   "source": [
    "a = input().split()\n",
    "print(a[1], a[0])"
   ]
  },
  {
   "cell_type": "markdown",
   "metadata": {},
   "source": [
    "### Задача 19"
   ]
  },
  {
   "cell_type": "code",
   "execution_count": 41,
   "metadata": {},
   "outputs": [
    {
     "name": "stdout",
     "output_type": "stream",
     "text": [
      "q w e\n",
      "3\n"
     ]
    }
   ],
   "source": [
    "print(input().count(' ') + 1)"
   ]
  },
  {
   "cell_type": "markdown",
   "metadata": {},
   "source": [
    "### Задача 20"
   ]
  },
  {
   "cell_type": "code",
   "execution_count": 43,
   "metadata": {},
   "outputs": [
    {
     "name": "stdout",
     "output_type": "stream",
     "text": [
      "1+1=2\n",
      "one+one=2\n"
     ]
    }
   ],
   "source": [
    "print(input().replace('1', 'one'))"
   ]
  },
  {
   "cell_type": "markdown",
   "metadata": {},
   "source": [
    "### Задача 21"
   ]
  },
  {
   "cell_type": "code",
   "execution_count": 44,
   "metadata": {},
   "outputs": [
    {
     "name": "stdout",
     "output_type": "stream",
     "text": [
      "dfa;sdkfj;ajva;bvna'sdasdfasdglJLHJKFHLDKJFh@@@@\n",
      "dfa;sdkfj;ajva;bvna'sdasdfasdglJLHJKFHLDKJFh\n"
     ]
    }
   ],
   "source": [
    "print(input().replace('@', ''))"
   ]
  },
  {
   "cell_type": "markdown",
   "metadata": {},
   "source": [
    "### Задача 22"
   ]
  },
  {
   "cell_type": "code",
   "execution_count": 45,
   "metadata": {},
   "outputs": [
    {
     "name": "stdout",
     "output_type": "stream",
     "text": [
      "In the hole in the ground there lived a hobbit\n",
      "In the Hole in tHe ground tHere lived a hobbit\n"
     ]
    }
   ],
   "source": [
    "s = input()\n",
    "a = s.find('h')+1\n",
    "b = s.rfind('h')\n",
    "c = s[a:b]\n",
    "d = c.replace('h', 'H')\n",
    "s = s[:a] + c.replace(c, d) + s[b:] \n",
    "print(s)"
   ]
  },
  {
   "cell_type": "markdown",
   "metadata": {},
   "source": [
    "### Задача 23"
   ]
  },
  {
   "cell_type": "code",
   "execution_count": 52,
   "metadata": {},
   "outputs": [
    {
     "name": "stdout",
     "output_type": "stream",
     "text": [
      "Python\n",
      "P*y*t*h*o*n\n"
     ]
    }
   ],
   "source": [
    "print(*list(input()), sep='*')"
   ]
  },
  {
   "cell_type": "markdown",
   "metadata": {},
   "source": [
    "### Задача 24"
   ]
  },
  {
   "cell_type": "code",
   "execution_count": 56,
   "metadata": {},
   "outputs": [
    {
     "name": "stdout",
     "output_type": "stream",
     "text": [
      "Python\n",
      "yton"
     ]
    }
   ],
   "source": [
    "s=input()\n",
    "for i in range(len(s)):\n",
    "    if i % 3 != 0:\n",
    "        print (s[i], end = '')\n"
   ]
  }
 ],
 "metadata": {
  "kernelspec": {
   "display_name": "Python 3",
   "language": "python",
   "name": "python3"
  },
  "language_info": {
   "codemirror_mode": {
    "name": "ipython",
    "version": 3
   },
   "file_extension": ".py",
   "mimetype": "text/x-python",
   "name": "python",
   "nbconvert_exporter": "python",
   "pygments_lexer": "ipython3",
   "version": "3.7.6"
  }
 },
 "nbformat": 4,
 "nbformat_minor": 4
}
