{
 "cells": [
  {
   "cell_type": "markdown",
   "metadata": {},
   "source": [
    "### Задача 1"
   ]
  },
  {
   "cell_type": "code",
   "execution_count": 1,
   "metadata": {},
   "outputs": [
    {
     "name": "stdout",
     "output_type": "stream",
     "text": [
      "5\n",
      "5\n",
      "5\n"
     ]
    }
   ],
   "source": [
    "A=int(input())\n",
    "B=int(input())\n",
    "print((A*(A // B)+B*(B // A))//((B // A)+(A // B)))"
   ]
  },
  {
   "cell_type": "markdown",
   "metadata": {},
   "source": [
    "### Задача 2"
   ]
  },
  {
   "cell_type": "code",
   "execution_count": 12,
   "metadata": {},
   "outputs": [
    {
     "name": "stdout",
     "output_type": "stream",
     "text": [
      "9\n",
      "9\n",
      "0\n"
     ]
    }
   ],
   "source": [
    "A=int(input())\n",
    "B=int(input())\n",
    "if (A > B):\n",
    "    print(1)\n",
    "elif (A < B):\n",
    "    print(2)\n",
    "else:\n",
    "    print(0)"
   ]
  },
  {
   "cell_type": "markdown",
   "metadata": {},
   "source": [
    "### Задача 3"
   ]
  },
  {
   "cell_type": "code",
   "execution_count": 16,
   "metadata": {},
   "outputs": [
    {
     "name": "stdout",
     "output_type": "stream",
     "text": [
      "1\n",
      "2\n",
      "3\n",
      "3\n"
     ]
    }
   ],
   "source": [
    "A=int(input())\n",
    "B=int(input())\n",
    "C=int(input())\n",
    "if B <= A >= C:\n",
    "    print(a)\n",
    "elif A <= B >= C:\n",
    "    print(B)\n",
    "else:\n",
    "    print(C)"
   ]
  },
  {
   "cell_type": "markdown",
   "metadata": {},
   "source": [
    "### Задача 4"
   ]
  },
  {
   "cell_type": "code",
   "execution_count": 18,
   "metadata": {},
   "outputs": [
    {
     "name": "stdout",
     "output_type": "stream",
     "text": [
      "4\n",
      "YES\n"
     ]
    }
   ],
   "source": [
    "y=int(input())\n",
    "if (y % 4 == 0) and (y % 100 != 0) or (y % 400 == 0):\n",
    "    print('YES')\n",
    "else:\n",
    "    print('NO')"
   ]
  },
  {
   "cell_type": "markdown",
   "metadata": {},
   "source": [
    "### Задача 5"
   ]
  },
  {
   "cell_type": "code",
   "execution_count": 20,
   "metadata": {},
   "outputs": [
    {
     "name": "stdout",
     "output_type": "stream",
     "text": [
      "4\n",
      "4\n",
      "5\n",
      "5\n",
      "YES\n"
     ]
    }
   ],
   "source": [
    "A1=int(input())\n",
    "A2=int(input())\n",
    "B1=int(input())\n",
    "B2=int(input())\n",
    "if A1 == B1-1 and A2 == B2-1:\n",
    "    print ('YES')\n",
    "else:\n",
    "    print ('NO')"
   ]
  },
  {
   "cell_type": "markdown",
   "metadata": {},
   "source": [
    "### Задача 6"
   ]
  },
  {
   "cell_type": "code",
   "execution_count": 24,
   "metadata": {},
   "outputs": [
    {
     "name": "stdout",
     "output_type": "stream",
     "text": [
      "2\n",
      "10\n",
      "NO\n"
     ]
    }
   ],
   "source": [
    "X=int(input())\n",
    "Y=int(input())\n",
    "if (X == 1) or (Y%(Y-X+1) == 0):\n",
    "    print('YES')\n",
    "else:\n",
    "    print('NO')"
   ]
  },
  {
   "cell_type": "markdown",
   "metadata": {},
   "source": [
    "### Задача 7"
   ]
  },
  {
   "cell_type": "code",
   "execution_count": 27,
   "metadata": {},
   "outputs": [
    {
     "name": "stdout",
     "output_type": "stream",
     "text": [
      "1\n",
      "1\n",
      "2\n",
      "3\n",
      "NO\n"
     ]
    }
   ],
   "source": [
    "A1=int(input())\n",
    "A2=int(input())\n",
    "B1=int(input())\n",
    "B2=int(input())\n",
    "if (A1+A2+B1+B2)%2 == 0:\n",
    "    print('YES')\n",
    "else:\n",
    "    print('NO')"
   ]
  },
  {
   "cell_type": "markdown",
   "metadata": {},
   "source": [
    "### Задача 8"
   ]
  },
  {
   "cell_type": "code",
   "execution_count": 29,
   "metadata": {},
   "outputs": [
    {
     "name": "stdout",
     "output_type": "stream",
     "text": [
      "2\n",
      "10\n",
      "7\n",
      "NO\n"
     ]
    }
   ],
   "source": [
    "N=int(input())\n",
    "M=int(input())\n",
    "K=int(input())\n",
    "if K < N * M and ((K%N == 0) or (K%M == 0)):\n",
    "    print('YES')\n",
    "else:\n",
    "    print('NO')"
   ]
  },
  {
   "cell_type": "markdown",
   "metadata": {},
   "source": [
    "### Задача 9"
   ]
  },
  {
   "cell_type": "code",
   "execution_count": 3,
   "metadata": {},
   "outputs": [
    {
     "name": "stdout",
     "output_type": "stream",
     "text": [
      "12\n",
      "korov\n"
     ]
    }
   ],
   "source": [
    "N=int(input())\n",
    "if 10 <= N > 20 or 5 <= N % 10 <= 9 or N % 10 == 0 or N // 10 == 1:\n",
    "    print('korov')\n",
    "elif N % 10 == 1:\n",
    "    print('korova')\n",
    "else:\n",
    "    print('korovy')"
   ]
  },
  {
   "cell_type": "markdown",
   "metadata": {},
   "source": [
    "### Задача 10"
   ]
  },
  {
   "cell_type": "code",
   "execution_count": 4,
   "metadata": {},
   "outputs": [
    {
     "name": "stdout",
     "output_type": "stream",
     "text": [
      "3\n",
      "1\n"
     ]
    }
   ],
   "source": [
    "X=int(input())\n",
    "if X > 0:\n",
    "    print(1)\n",
    "elif X == 0:\n",
    "    print(0)\n",
    "else:\n",
    "    print(-1)"
   ]
  },
  {
   "cell_type": "markdown",
   "metadata": {},
   "source": [
    "### Задача 11"
   ]
  },
  {
   "cell_type": "code",
   "execution_count": 9,
   "metadata": {},
   "outputs": [
    {
     "name": "stdout",
     "output_type": "stream",
     "text": [
      "3\n",
      "3\n",
      "5\n",
      "1\n",
      "YES\n"
     ]
    }
   ],
   "source": [
    "X1=int(input())\n",
    "Y1=int(input())\n",
    "X2=int(input())\n",
    "Y2=int(input())\n",
    "if (X1 > 0 and X2 > 0) or (X1 < 0 and X2 < 0):\n",
    "    if (Y1 > 0 and Y2 > 0) or (Y1 < 0 and Y2 < 0):\n",
    "        print('YES')\n",
    "else:\n",
    "    print('NO')"
   ]
  },
  {
   "cell_type": "markdown",
   "metadata": {},
   "source": [
    "### Задача 12"
   ]
  },
  {
   "cell_type": "code",
   "execution_count": 4,
   "metadata": {},
   "outputs": [
    {
     "name": "stdout",
     "output_type": "stream",
     "text": [
      "1\n",
      "1\n",
      "8\n",
      "7\n",
      "NO\n"
     ]
    }
   ],
   "source": [
    "X1 = int(input())\n",
    "Y1 = int(input())\n",
    "X2 = int(input())\n",
    "Y2 = int(input())\n",
    "if X1 - (Y2 - Y1) <= X2 <= X1 + (Y2 - Y1):\n",
    "    print('YES')\n",
    "else:\n",
    "    print('NO')"
   ]
  },
  {
   "cell_type": "markdown",
   "metadata": {},
   "source": [
    "### Задача 13"
   ]
  },
  {
   "cell_type": "code",
   "execution_count": 6,
   "metadata": {},
   "outputs": [
    {
     "name": "stdout",
     "output_type": "stream",
     "text": [
      "7 \n",
      "3\n",
      "1\n",
      "acute\n"
     ]
    }
   ],
   "source": [
    "A=int(input())\n",
    "B=int(input())\n",
    "C=int(input())\n",
    "if (A**2 == B**2 + C**2) or (B**2 == A**2 + C**2) or (C**2 == A**2 + B**2):\n",
    "    print(\"rectangular\")\n",
    "elif (A**2 < B**2 + C**2) or (B**2 < A**2 + C**2) or (C**2 < A**2 + B**2):\n",
    "    print(\"acute\")\n",
    "elif (A**2 > B**2 + C**2) or (B**2 > A**2 + C**2) or (C**2 > A**2 + B**2):\n",
    "    print(\"obtuse \")\n",
    "else:\n",
    "    print(\"impossible\")"
   ]
  },
  {
   "cell_type": "markdown",
   "metadata": {},
   "source": [
    "### Задача 14"
   ]
  },
  {
   "cell_type": "code",
   "execution_count": 9,
   "metadata": {},
   "outputs": [
    {
     "name": "stdout",
     "output_type": "stream",
     "text": [
      "7\n",
      "7\n",
      "7\n",
      "NO\n"
     ]
    }
   ],
   "source": [
    "A=int(input())\n",
    "B=int(input())\n",
    "C=int(input())\n",
    "if (A + B) % 2 != 0:\n",
    "    print('YES')\n",
    "elif (B + C) % 2 != 0:\n",
    "    print('YES')\n",
    "elif (A + C) % 2 != 0:\n",
    "    print('YES')\n",
    "else:\n",
    "    print('NO')"
   ]
  },
  {
   "cell_type": "markdown",
   "metadata": {},
   "source": [
    "### Задача 15"
   ]
  },
  {
   "cell_type": "code",
   "execution_count": 18,
   "metadata": {},
   "outputs": [
    {
     "name": "stdout",
     "output_type": "stream",
     "text": [
      "1\n",
      "3\n",
      "0\n",
      "0 1 3\n"
     ]
    }
   ],
   "source": [
    "a,b,c= int(input()), int(input()), int(input())\n",
    "if (a > b):\n",
    "    (a, b) = (b, a)\n",
    "if (b > c):\n",
    "    (b, c) = (c, b)\n",
    "if (a > b):\n",
    "    (a, b) = (b, a)\n",
    "print(a,b,c)"
   ]
  },
  {
   "cell_type": "markdown",
   "metadata": {},
   "source": [
    "### Задача 16"
   ]
  },
  {
   "cell_type": "code",
   "execution_count": 20,
   "metadata": {},
   "outputs": [
    {
     "name": "stdout",
     "output_type": "stream",
     "text": [
      "1\n",
      "1\n",
      "1\n",
      "3\n"
     ]
    }
   ],
   "source": [
    "a,b,c = int(input()), int(input()), int(input())\n",
    "if a == b == c:\n",
    "    print(3)\n",
    "elif a == b or b == c or a == c:\n",
    "    print(2)\n",
    "else:\n",
    "    print(0)"
   ]
  },
  {
   "cell_type": "markdown",
   "metadata": {},
   "source": [
    "### Задача 17"
   ]
  },
  {
   "cell_type": "code",
   "execution_count": 25,
   "metadata": {},
   "outputs": [
    {
     "name": "stdout",
     "output_type": "stream",
     "text": [
      "2\n",
      "2\n",
      "1\n",
      "1\n",
      "1\n",
      "NO\n"
     ]
    }
   ],
   "source": [
    "a,b,c,d,e = int(input()), int(input()), int(input()),int(input()),int(input())\n",
    "if a <= d and b <= e or a <= e and b <= d:\n",
    "    print(\"YES\")\n",
    "elif c <= d and b <= e or c <= e and b <= d:\n",
    "    print(\"YES\")\n",
    "elif a <= d and c <= e or a <= e and c <= d:\n",
    "    print(\"YES\")\n",
    "else:\n",
    "    print(\"NO\")                                                    "
   ]
  },
  {
   "cell_type": "markdown",
   "metadata": {},
   "source": [
    "### Задача 18"
   ]
  },
  {
   "cell_type": "code",
   "execution_count": 28,
   "metadata": {},
   "outputs": [
    {
     "name": "stdout",
     "output_type": "stream",
     "text": [
      "2\n",
      "2\n",
      "3\n",
      "1\n",
      "2\n",
      "3\n",
      "The first box is larger than the second one\n"
     ]
    }
   ],
   "source": [
    "a1,b1,c1,a2,b2,c2 = int(input()), int(input()), int(input()), int(input()), int(input()), int(input())\n",
    "if a1 > b1:\n",
    "    a1, b1 = b1, a1\n",
    "if b1 > c1:\n",
    "    b1, c1 = c1, b1\n",
    "if a1 > b1:\n",
    "    a1, b1 = b1, a1\n",
    "if a2 > b2:\n",
    "    a2, b2 = b2, a2\n",
    "if b2 > c2:\n",
    "    b2, c2 = c2, b2\n",
    "if a2 > b2:\n",
    "    a2, b2 = b2, a2\n",
    "if a1 == a2 and b1 == b2 and c1 == c2:\n",
    "    print('Boxes are equal')\n",
    "elif c1 <= c2 and a1 <= a2 and b1 <= b2:\n",
    "    print('The first box is smaller than the second one')\n",
    "elif c1 >= c2 and a1 >= a2 and b1 >= b2:\n",
    "    print('The first box is larger than the second one')\n",
    "else:\n",
    "    print('Boxes are incomparable')"
   ]
  },
  {
   "cell_type": "markdown",
   "metadata": {},
   "source": [
    "### Задача 19"
   ]
  },
  {
   "cell_type": "code",
   "execution_count": 29,
   "metadata": {},
   "outputs": [
    {
     "name": "stdout",
     "output_type": "stream",
     "text": [
      "100\n",
      "200\n",
      "300\n",
      "1\n",
      "2\n",
      "3\n",
      "1000000\n"
     ]
    }
   ],
   "source": [
    "a1,b1,c1,x,y,z = int(input()),int(input()),int(input()),int(input()),int(input()),int(input())\n",
    "m1 = (a1 // x) * (b1 // y) * (c1 // z)\n",
    "m2 = (a1 // x) * (c1 // y) * (b1 // z)\n",
    "m3 = (b1 // x) * (c1 // y) * (a1 // z)\n",
    "m4 = (b1 // x) * (a1 // y) * (c1 // z)\n",
    "m5 = (c1 // x) * (a1 // y) * (b1 // z)\n",
    "m6 = (c1 // x) * (b1 // y) * (a1 // z)\n",
    "if m1 >= m2:\n",
    "    m2 = m1\n",
    "if m3 >= m4:\n",
    "    m4 = m3\n",
    "if m5 >= m6:\n",
    "    m6 = m5 \n",
    "if m2 >= m4 and m2 >= m6:\n",
    "    print(m2)\n",
    "elif m4 >= m6:\n",
    "    print(m4)\n",
    "else:\n",
    "    print(m6)"
   ]
  },
  {
   "cell_type": "markdown",
   "metadata": {},
   "source": [
    "### Задача 20"
   ]
  },
  {
   "cell_type": "code",
   "execution_count": 38,
   "metadata": {},
   "outputs": [
    {
     "name": "stdout",
     "output_type": "stream",
     "text": [
      "14\n",
      "NO\n"
     ]
    }
   ],
   "source": [
    "K=int(input())\n",
    "if K % 5 == 3 or K % 5 == 0 or K % 3 == 0:\n",
    "    print(\"YES\")\n",
    "else:\n",
    "    print(\"NO\")"
   ]
  },
  {
   "cell_type": "markdown",
   "metadata": {},
   "source": [
    "### Задача 21"
   ]
  },
  {
   "cell_type": "code",
   "execution_count": 43,
   "metadata": {},
   "outputs": [
    {
     "name": "stdout",
     "output_type": "stream",
     "text": [
      "2\n",
      "-4\n",
      "7\n",
      "1\n",
      "2\n"
     ]
    }
   ],
   "source": [
    "a,b,c,d = int(input()), int(input()), int(input()), int(input())\n",
    "if a == 0 and b == 0:\n",
    "    print('INF')\n",
    "elif a == 0 or b * c == a * d:\n",
    "    print('NO')\n",
    "elif b % a == 0:\n",
    "    x = -b // a\n",
    "    print(x)\n",
    "else:\n",
    "    print('NO')"
   ]
  },
  {
   "cell_type": "markdown",
   "metadata": {},
   "source": [
    "### Задача 22"
   ]
  },
  {
   "cell_type": "code",
   "execution_count": 46,
   "metadata": {},
   "outputs": [
    {
     "name": "stdout",
     "output_type": "stream",
     "text": [
      "1\n",
      "2\n",
      "5\n",
      "20\n"
     ]
    }
   ],
   "source": [
    "K = int(input())\n",
    "M = int(input())\n",
    "N = int(input())\n",
    "if N<=K:\n",
    "    S = 2*M\n",
    "elif N*2 % K==0:\n",
    "    S = M*(N*2 // K)\n",
    "else:\n",
    "    S = M*(1+(N*2 // K))\n",
    "print(S)"
   ]
  },
  {
   "cell_type": "markdown",
   "metadata": {},
   "source": [
    "### Задача 23"
   ]
  },
  {
   "cell_type": "code",
   "execution_count": 49,
   "metadata": {},
   "outputs": [
    {
     "name": "stdout",
     "output_type": "stream",
     "text": [
      "1\n",
      "5\n",
      "0\n",
      "1\n",
      "4\n",
      "8\n",
      "0\n"
     ]
    }
   ],
   "source": [
    "l1,r1,l2,r2,l3,r3 = int(input()),int(input()),int(input()),int(input()),int(input()),int(input())\n",
    "if r1 >= l2 and (r2 >= l3 or r1 >= l3):\n",
    "    print(0)\n",
    "elif r2 + r1 - l1 >= l3:\n",
    "    print(1)\n",
    "elif r1 + r3 - l3 >= l2:\n",
    "    print(3)\n",
    "elif r2 + r1 - l1 >= l3 and r1 + r3 - l3 >= l2:\n",
    "    print(1)\n",
    "else:\n",
    "    print(-1)"
   ]
  },
  {
   "cell_type": "markdown",
   "metadata": {},
   "source": [
    "### Задача 24"
   ]
  },
  {
   "cell_type": "code",
   "execution_count": 6,
   "metadata": {},
   "outputs": [
    {
     "name": "stdout",
     "output_type": "stream",
     "text": [
      "1\n",
      "1\n",
      "4\n",
      "1\n",
      "1\n",
      "3\n",
      "10\n",
      "10\n",
      "3\n",
      "NO\n"
     ]
    }
   ],
   "source": [
    "l1,w1,h1,l2,w2,h2,lc,wc,hc = int(input()),int(input()),int(input()),int(input()),int(input()),int(input()),int(input()),int(input()),int(input())\n",
    "if (l1<=lc and w1<=wc and l2<=lc and w2<=wc):\n",
    "    if (h1>hc or h2>hc):\n",
    "        print('NO')\n",
    "else:\n",
    "    print('YES')\n"
   ]
  }
 ],
 "metadata": {
  "kernelspec": {
   "display_name": "Python 3",
   "language": "python",
   "name": "python3"
  },
  "language_info": {
   "codemirror_mode": {
    "name": "ipython",
    "version": 3
   },
   "file_extension": ".py",
   "mimetype": "text/x-python",
   "name": "python",
   "nbconvert_exporter": "python",
   "pygments_lexer": "ipython3",
   "version": "3.7.6"
  }
 },
 "nbformat": 4,
 "nbformat_minor": 4
}
