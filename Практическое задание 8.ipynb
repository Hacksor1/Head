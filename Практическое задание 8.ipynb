{
 "cells": [
  {
   "cell_type": "markdown",
   "metadata": {},
   "source": [
    "### Задача 1"
   ]
  },
  {
   "cell_type": "code",
   "execution_count": 3,
   "metadata": {},
   "outputs": [
    {
     "name": "stdout",
     "output_type": "stream",
     "text": [
      "3\n",
      "14\n"
     ]
    }
   ],
   "source": [
    "n = int(input())\n",
    "sum = 0\n",
    "for i in range(1, n+1):\n",
    "    sum = sum + i**2\n",
    "print(sum)"
   ]
  },
  {
   "cell_type": "markdown",
   "metadata": {},
   "source": [
    "### Задача 2"
   ]
  },
  {
   "cell_type": "code",
   "execution_count": 26,
   "metadata": {},
   "outputs": [
    {
     "name": "stdout",
     "output_type": "stream",
     "text": [
      "4\n",
      "+___ +___ +___ +___ \n",
      "|1 / |2 / |3 / |4 / \n",
      "|__\\ |__\\ |__\\ |__\\ \n",
      "|     |     |     |     \n"
     ]
    }
   ],
   "source": [
    "n = int(input())\n",
    "for i in range(n):\n",
    "    print(\"+___\", end=\" \")\n",
    "print()\n",
    "for i in range(n):\n",
    "    print(\"|\",i+1,\" /\",sep=\"\", end=\" \")\n",
    "print()\n",
    "for i in range(n):\n",
    "    print(\"|__\\\\\", end=\" \")\n",
    "print()\n",
    "for i in range(n):\n",
    "    print(\"|    \", end=\" \")\n",
    "print()"
   ]
  },
  {
   "cell_type": "markdown",
   "metadata": {},
   "source": [
    "### Задача 3"
   ]
  },
  {
   "cell_type": "code",
   "execution_count": 37,
   "metadata": {},
   "outputs": [
    {
     "name": "stdout",
     "output_type": "stream",
     "text": [
      "1 2 3 4 5\n",
      "5 4 3 2 1 "
     ]
    }
   ],
   "source": [
    "s = input().split(' ')\n",
    "for i in reversed(s):\n",
    "    print(i, end=' ')"
   ]
  },
  {
   "cell_type": "markdown",
   "metadata": {},
   "source": [
    "# Задача 4"
   ]
  },
  {
   "cell_type": "code",
   "execution_count": 55,
   "metadata": {},
   "outputs": [
    {
     "name": "stdout",
     "output_type": "stream",
     "text": [
      "4 6 2 4 3 5 12 14 3 5\n",
      "4\n",
      "4 6 2 4 5 12 14 3 5 "
     ]
    }
   ],
   "source": [
    "a = input().split(' ')\n",
    "k = int(input())\n",
    "for i in range(k + 1, len(a)):\n",
    "    a[i-1] = a[i]\n",
    "a.pop(len(a)-1)\n",
    "for i in range(len(a)):\n",
    "    print(a[i],end=' ')"
   ]
  },
  {
   "cell_type": "markdown",
   "metadata": {},
   "source": [
    "### Задача 5"
   ]
  },
  {
   "cell_type": "code",
   "execution_count": 60,
   "metadata": {},
   "outputs": [
    {
     "name": "stdout",
     "output_type": "stream",
     "text": [
      "4 5 3 4 2 3\n",
      "5 4 4 3 3 2 "
     ]
    }
   ],
   "source": [
    "a = input().split(' ')\n",
    "for i in range(1, len(a), 2):\n",
    "    a[i - 1], a[i] = a[i], a[i - 1]\n",
    "for i in range(len(a)):\n",
    "    print(a[i],end=' ')"
   ]
  },
  {
   "cell_type": "markdown",
   "metadata": {},
   "source": [
    "### Задача 6"
   ]
  },
  {
   "cell_type": "code",
   "execution_count": 63,
   "metadata": {},
   "outputs": [
    {
     "name": "stdout",
     "output_type": "stream",
     "text": [
      "4 0 5 0 3 0 0 5\n",
      "4 5 3 5 0 0 0 0 "
     ]
    }
   ],
   "source": [
    "n = input().split(' ')\n",
    "for i in reversed(range(len(n))):\n",
    "    if  n[i] == '0':\n",
    "        n.append(n.pop(i))\n",
    "print(*n, end=' ')"
   ]
  },
  {
   "cell_type": "markdown",
   "metadata": {},
   "source": [
    "### Задача 7"
   ]
  },
  {
   "cell_type": "code",
   "execution_count": 71,
   "metadata": {},
   "outputs": [
    {
     "name": "stdout",
     "output_type": "stream",
     "text": [
      "2\n",
      "3 1\n",
      "1 3\n"
     ]
    }
   ],
   "source": [
    "k = int(input())\n",
    "n = input().split(' ')\n",
    "print(*sorted(n))"
   ]
  },
  {
   "cell_type": "markdown",
   "metadata": {},
   "source": [
    "### Задача 8"
   ]
  },
  {
   "cell_type": "code",
   "execution_count": 1,
   "metadata": {},
   "outputs": [
    {
     "name": "stdout",
     "output_type": "stream",
     "text": [
      "100 2\n",
      "50\n",
      "50\n",
      "2\n"
     ]
    }
   ],
   "source": [
    "S, N = map(int, input().split())\n",
    "v = sorted([int(input()) for _ in range(N)])\n",
    "a = sum(v) \n",
    "while a > S and N:\n",
    "    a = a - v.pop()\n",
    "    N = N - 1\n",
    "print(N)"
   ]
  },
  {
   "cell_type": "markdown",
   "metadata": {},
   "source": [
    "### Задача 9"
   ]
  },
  {
   "cell_type": "code",
   "execution_count": 1,
   "metadata": {},
   "outputs": [
    {
     "name": "stdout",
     "output_type": "stream",
     "text": [
      "5\n",
      "1 50 3 4 3\n",
      "16\n",
      "1 2 3 4 5 1 3 3 4 5 5 5 5 5 4 5\n",
      "YES\n",
      "NO\n",
      "NO\n",
      "NO\n",
      "YES\n"
     ]
    }
   ],
   "source": [
    "def keyCount(n, actCl, maxCl):\n",
    "    clickC = [0] * n\n",
    "    for click in actCl:\n",
    "        clickC[click - 1] += 1\n",
    "    for i in range(n):\n",
    "        if maxCl[i] < clickC[i]:\n",
    "            print('YES')\n",
    "        else:\n",
    "            print('NO')\n",
    "n = int(input())\n",
    "maxCl = [int(i) for i in input().split()]\n",
    "k = int(input())\n",
    "actCl = [int(i) for i in input().split()]\n",
    "keyCount(n, actCl, maxCl)"
   ]
  },
  {
   "cell_type": "markdown",
   "metadata": {},
   "source": [
    "### Задача 10"
   ]
  },
  {
   "cell_type": "code",
   "execution_count": 9,
   "metadata": {},
   "outputs": [
    {
     "name": "stdout",
     "output_type": "stream",
     "text": [
      "9 8 7 6 5 4 3 2 1 0\n",
      "0 1 2 3 4 5 6 7 8 9\n"
     ]
    }
   ],
   "source": [
    "n = [0] * 101\n",
    "for i in map(int, input().split()):\n",
    "    n[i] = n[i] + 1\n",
    "a = []\n",
    "for i in range(len(n)):\n",
    "    a = a + [i] * n[i]\n",
    "print(*a)"
   ]
  },
  {
   "cell_type": "markdown",
   "metadata": {},
   "source": [
    "### Задача 11"
   ]
  },
  {
   "cell_type": "code",
   "execution_count": 11,
   "metadata": {},
   "outputs": [
    {
     "name": "stdout",
     "output_type": "stream",
     "text": [
      "3\n",
      "Ivanov 15\n",
      "Petrov 10\n",
      "Sidorov 20\n",
      "Sidorov\n",
      "Ivanov\n",
      "Petrov\n"
     ]
    }
   ],
   "source": [
    "n = int(input())\n",
    "members = [input().split() for _ in range(n)]\n",
    "for i in sorted(members, key=lambda x: int(x[1]), reverse=True):\n",
    "    print(i[0])"
   ]
  },
  {
   "cell_type": "markdown",
   "metadata": {},
   "source": [
    "### Задача 12"
   ]
  },
  {
   "cell_type": "code",
   "execution_count": 29,
   "metadata": {},
   "outputs": [
    {
     "name": "stdout",
     "output_type": "stream",
     "text": [
      "10 20 1 30 30\n",
      "3 3 3 2 3\n",
      "243\n"
     ]
    }
   ],
   "source": [
    "t = sorted([int(s) for s in input().split()])\n",
    "d = sorted([int(s) for s in input().split()], reverse=True)\n",
    "print(sum(t*d for t, d in zip(t, d)))"
   ]
  },
  {
   "cell_type": "markdown",
   "metadata": {},
   "source": [
    "### Задача 13"
   ]
  },
  {
   "cell_type": "code",
   "execution_count": 39,
   "metadata": {},
   "outputs": [
    {
     "name": "stdout",
     "output_type": "stream",
     "text": [
      "86406361642\n",
      "83341994118\n",
      "86406361642\n",
      "83341994118\n",
      "NO\n",
      "YES\n",
      "NO\n"
     ]
    }
   ],
   "source": [
    "def r(string):\n",
    "    string = string.replace('-', '').replace('(', '').replace(')', '')\n",
    "    return string[-10:] if len(string)>7 else '495' + string[-7:]\n",
    "n = 4\n",
    "notes = [input() for _ in range(n)]\n",
    "for note in notes[1:]:\n",
    "    if r(notes[0]) == r(note):\n",
    "        print('YES')\n",
    "    else:\n",
    "        print('NO')\n",
    "        "
   ]
  },
  {
   "cell_type": "markdown",
   "metadata": {},
   "source": [
    "### Задача 14"
   ]
  },
  {
   "cell_type": "code",
   "execution_count": 46,
   "metadata": {},
   "outputs": [
    {
     "name": "stdout",
     "output_type": "stream",
     "text": [
      "2\n",
      "Russia Moscow Petersburg Novgorod Kaluga\n",
      "Ukraine Kiev Donetsk Odessa\n",
      "3\n",
      "Odessa\n",
      "Moscow\n",
      "Novgorod\n",
      "Ukraine Russia Russia\n"
     ]
    }
   ],
   "source": [
    "states = {}\n",
    "for _ in range(int(input())):\n",
    "    state, *cities = input().split()\n",
    "    for city in cities:\n",
    "        states[city] = state\n",
    "print(*(states[input()] for _ in range(int(input()))))"
   ]
  },
  {
   "cell_type": "markdown",
   "metadata": {},
   "source": [
    "### Задача 15"
   ]
  },
  {
   "cell_type": "code",
   "execution_count": 63,
   "metadata": {},
   "outputs": [
    {
     "name": "stdout",
     "output_type": "stream",
     "text": [
      "apple orange banana banana orange\n",
      "banana\n"
     ]
    }
   ],
   "source": [
    "a = {}\n",
    "line = input().split()\n",
    "for word in line:\n",
    "    a[word] = a.get(word, 0) + 1\n",
    "    max_count = max(a.values())\n",
    "    most_frequent = [k for k, v in a.items() if v == max_count]\n",
    "print(min(most_frequent))\n"
   ]
  },
  {
   "cell_type": "markdown",
   "metadata": {},
   "source": [
    "### Задача 16"
   ]
  },
  {
   "cell_type": "code",
   "execution_count": 70,
   "metadata": {},
   "outputs": [
    {
     "name": "stdout",
     "output_type": "stream",
     "text": [
      "1\n",
      "ai ai ai ai ai ai ai ai ai ai\n",
      "ai\n"
     ]
    }
   ],
   "source": [
    "from collections import Counter\n",
    "words = []\n",
    "for _ in range(int(input())):\n",
    "    words.extend(input().split())\n",
    "counter = Counter(words)\n",
    "pairs = [(-pair[1], pair[0]) for pair in counter.most_common()]\n",
    "words = [pair[1] for pair in sorted(pairs)]\n",
    "print('\\n'.join(words))"
   ]
  },
  {
   "cell_type": "markdown",
   "metadata": {},
   "source": [
    "### Задача 17"
   ]
  },
  {
   "cell_type": "code",
   "execution_count": 76,
   "metadata": {},
   "outputs": [
    {
     "name": "stdout",
     "output_type": "stream",
     "text": [
      "3\n",
      "WITHDRAW Petrov 100\n",
      "DEPOSIT Ivanov 100\n",
      "BALANCE Ivanov\n",
      "100\n"
     ]
    }
   ],
   "source": [
    "def deposit(arg):\n",
    "    name, money = arg\n",
    "    bank[name] = bank.setdefault(name, 0) + int(money)\n",
    "def withdraw(arg):\n",
    "    name, money = arg\n",
    "    bank[name] = bank.setdefault(name, 0) - int(money)\n",
    "def balance(arg):\n",
    "    name = arg[0]\n",
    "    if name in bank:\n",
    "        print(bank[name])\n",
    "    else:\n",
    "        print('ERROR')\n",
    "def transfer(arg):\n",
    "    name_1, name_2, money = arg       \n",
    "    withdraw((name_1, money))\n",
    "    deposit((name_2, money))\n",
    "    for name in (name_1, name_2):\n",
    "        if name not in bank:\n",
    "            deposit((name,0))        \n",
    "def income(arg):\n",
    "    percent = int(arg[0])\n",
    "    for name, balanse in bank.items():\n",
    "        if balanse > 0:\n",
    "            bank[name] = bank.get(name) + balanse * percent//100\n",
    "bank = {}\n",
    "bank_fun = {\n",
    "'DEPOSIT' : deposit, 'WITHDRAW' : withdraw,\n",
    "'BALANCE' : balance, 'TRANSFER' : transfer,\n",
    "'INCOME' : income\n",
    "}\n",
    "for _ in range(int(input())):\n",
    "    data = input().split()\n",
    "    fun_name = data[0]\n",
    "    arg = data[1:]\n",
    "    bank_fun[fun_name](arg)"
   ]
  },
  {
   "cell_type": "markdown",
   "metadata": {},
   "source": [
    "### Задача 18"
   ]
  },
  {
   "cell_type": "code",
   "execution_count": 86,
   "metadata": {},
   "outputs": [
    {
     "name": "stdout",
     "output_type": "stream",
     "text": [
      "4\n",
      "Alexei Peter_I\n",
      "Anna Peter_I\n",
      "Elizabeth Peter_I\n",
      "Peter_II Alexei\n",
      "Alexei None\n",
      "Anna None\n",
      "Elizabeth None\n",
      "Peter_I None\n",
      "Peter_II None\n"
     ]
    }
   ],
   "source": [
    "def a(tree, k):\n",
    "    d = 0\n",
    "    while (tree[k]):\n",
    "        try: \n",
    "            k = tree[k]\n",
    "            d+=1\n",
    "        except (KeyError):\n",
    "            return d\n",
    "n = int(input())\n",
    "gen = dict()\n",
    "for _ in range(n):\n",
    "    child, parent = input().split()\n",
    "    gen[child] = parent\n",
    "    if not parent in gen:\n",
    "        gen[parent]=None\n",
    "for k,v in sorted(gen.items()):\n",
    "    print(k, a(gen, k))"
   ]
  },
  {
   "cell_type": "markdown",
   "metadata": {},
   "source": [
    "### Задача 19"
   ]
  },
  {
   "cell_type": "code",
   "execution_count": 89,
   "metadata": {},
   "outputs": [
    {
     "name": "stdout",
     "output_type": "stream",
     "text": [
      "1 2 3 4 1 2\n",
      "4\n"
     ]
    }
   ],
   "source": [
    "print(len(set(map(int, input().split()))))"
   ]
  },
  {
   "cell_type": "markdown",
   "metadata": {},
   "source": [
    "### Задача 20"
   ]
  },
  {
   "cell_type": "code",
   "execution_count": 106,
   "metadata": {},
   "outputs": [
    {
     "name": "stdout",
     "output_type": "stream",
     "text": [
      "She sells sea shells on the sea shore; The shells that she sells are sea shells I'm sure. So if she sells sea shells on the sea shore, I'm sure that the shells are sea shore shells.\n",
      "19\n"
     ]
    }
   ],
   "source": [
    "s = input()\n",
    "n = len(set(s.split()))\n",
    "print(n)"
   ]
  },
  {
   "cell_type": "markdown",
   "metadata": {},
   "source": [
    "### Задача 21"
   ]
  },
  {
   "cell_type": "code",
   "execution_count": 110,
   "metadata": {},
   "outputs": [
    {
     "name": "stdout",
     "output_type": "stream",
     "text": [
      "0 0 1 1\n",
      "0 1 0 1\n",
      "0 1 1 0\n"
     ]
    }
   ],
   "source": [
    "def qwer(a,b):\n",
    "    if a != b:\n",
    "        return 1\n",
    "    else:\n",
    "        return 0\n",
    "a = input().split()\n",
    "b = input().split()\n",
    "print(*list(map(qwer,a,b)))"
   ]
  },
  {
   "cell_type": "markdown",
   "metadata": {},
   "source": [
    "### Задача 22"
   ]
  },
  {
   "cell_type": "code",
   "execution_count": 119,
   "metadata": {},
   "outputs": [
    {
     "name": "stdout",
     "output_type": "stream",
     "text": [
      "4\n",
      "24\n"
     ]
    }
   ],
   "source": [
    "import math\n",
    "n = int(input())\n",
    "res = math.factorial(n)\n",
    "print(res)"
   ]
  },
  {
   "cell_type": "markdown",
   "metadata": {},
   "source": [
    "### Задача 23"
   ]
  },
  {
   "cell_type": "code",
   "execution_count": 126,
   "metadata": {},
   "outputs": [
    {
     "name": "stdout",
     "output_type": "stream",
     "text": [
      "5\n",
      "2 3 5 "
     ]
    }
   ],
   "source": [
    "n = int(input())\n",
    "for k in range(2, n+1):\n",
    "    p = True\n",
    "    for i in range(2, k):\n",
    "        if k % i == 0:\n",
    "            p = False\n",
    "            break\n",
    "    if p:\n",
    "        print(k, end = ' ')\n"
   ]
  },
  {
   "cell_type": "markdown",
   "metadata": {},
   "source": [
    "### Задача 24"
   ]
  },
  {
   "cell_type": "code",
   "execution_count": 1,
   "metadata": {},
   "outputs": [
    {
     "name": "stdout",
     "output_type": "stream",
     "text": [
      "3 2\n",
      "2 1 2 3\n",
      "1 2 3 2\n",
      "3 2 1\n"
     ]
    }
   ],
   "source": [
    "import itertools\n",
    "import functools\n",
    "print(*(tuple([[[0]]]) + tuple(*map(lambda data: filter(lambda x: tuple(x[0]) == x[1], map(lambda var: (filter(lambda sta: ((var.index(sta[0]) >= var.index(sta[1])) ^ (var.index(sta[2]) >= var.index(sta[3]))), data[1]), data[1], var + data[2]), data[0])), map(lambda x: (itertools.permutations(set(functools.reduce(lambda x,y: x + y ,x[1]))), x[1], tuple(set(range(1, x[0] + 1)) - set(functools.reduce(lambda x,y: x + y ,x[1])))), map(lambda vvod: (next(vvod), tuple(set(map(lambda y: tuple(y), map(lambda x: map(int, input().split()), range(next(vvod))))))), [map(int, input().split())])))))[-1][-1])"
   ]
  },
  {
   "cell_type": "code",
   "execution_count": null,
   "metadata": {},
   "outputs": [],
   "source": []
  }
 ],
 "metadata": {
  "kernelspec": {
   "display_name": "Python 3",
   "language": "python",
   "name": "python3"
  },
  "language_info": {
   "codemirror_mode": {
    "name": "ipython",
    "version": 3
   },
   "file_extension": ".py",
   "mimetype": "text/x-python",
   "name": "python",
   "nbconvert_exporter": "python",
   "pygments_lexer": "ipython3",
   "version": "3.7.6"
  }
 },
 "nbformat": 4,
 "nbformat_minor": 4
}
